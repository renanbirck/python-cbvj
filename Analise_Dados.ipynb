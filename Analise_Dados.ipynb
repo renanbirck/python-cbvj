{
 "cells": [
  {
   "cell_type": "code",
   "execution_count": 1,
   "metadata": {},
   "outputs": [],
   "source": [
    "## Notebook para análise dos dados coletados no Twitter do CBVJ."
   ]
  },
  {
   "cell_type": "code",
   "execution_count": 4,
   "metadata": {},
   "outputs": [],
   "source": [
    "import numpy as np, scipy as sp, matplotlib.pyplot as plt, seaborn as sns, pandas as pd, sqlite3"
   ]
  },
  {
   "cell_type": "code",
   "execution_count": 3,
   "metadata": {},
   "outputs": [],
   "source": []
  },
  {
   "cell_type": "code",
   "execution_count": 7,
   "metadata": {},
   "outputs": [],
   "source": [
    "connection = sqlite3.connect('tweets.db')\n",
    "dataset = pd.read_sql_query(\"SELECT * FROM parsed_tweets ORDER BY created DESC\", connection)"
   ]
  },
  {
   "cell_type": "code",
   "execution_count": 53,
   "metadata": {},
   "outputs": [
    {
     "data": {
      "text/html": [
       "<div>\n",
       "<style scoped>\n",
       "    .dataframe tbody tr th:only-of-type {\n",
       "        vertical-align: middle;\n",
       "    }\n",
       "\n",
       "    .dataframe tbody tr th {\n",
       "        vertical-align: top;\n",
       "    }\n",
       "\n",
       "    .dataframe thead th {\n",
       "        text-align: right;\n",
       "    }\n",
       "</style>\n",
       "<table border=\"1\" class=\"dataframe\">\n",
       "  <thead>\n",
       "    <tr style=\"text-align: right;\">\n",
       "      <th></th>\n",
       "      <th>tweet_ID</th>\n",
       "      <th>date</th>\n",
       "      <th>time</th>\n",
       "      <th>type</th>\n",
       "      <th>place</th>\n",
       "      <th>neighbourhood</th>\n",
       "      <th>created</th>\n",
       "    </tr>\n",
       "  </thead>\n",
       "  <tbody>\n",
       "    <tr>\n",
       "      <th>0</th>\n",
       "      <td>1652404099902500865</td>\n",
       "      <td>29/04</td>\n",
       "      <td>17h08</td>\n",
       "      <td>Queda de Nível</td>\n",
       "      <td>Rua Catanduva, 115</td>\n",
       "      <td>São Marcos</td>\n",
       "      <td>2023-04-29 20:06:52+00:00</td>\n",
       "    </tr>\n",
       "    <tr>\n",
       "      <th>1</th>\n",
       "      <td>1652389753482883072</td>\n",
       "      <td>29/04</td>\n",
       "      <td>16h11</td>\n",
       "      <td>Queda de Moto</td>\n",
       "      <td>Rodovia Sc-418, 16</td>\n",
       "      <td>Dona Francisca (pirabeiraba)</td>\n",
       "      <td>2023-04-29 19:09:51+00:00</td>\n",
       "    </tr>\n",
       "    <tr>\n",
       "      <th>2</th>\n",
       "      <td>1652384468798423040</td>\n",
       "      <td>29/04</td>\n",
       "      <td>15h45</td>\n",
       "      <td>Emergência Médica/Clínico</td>\n",
       "      <td>Rua Waldemiro José Borges, 5200</td>\n",
       "      <td>Itinga</td>\n",
       "      <td>2023-04-29 18:48:51+00:00</td>\n",
       "    </tr>\n",
       "    <tr>\n",
       "      <th>3</th>\n",
       "      <td>1652381198033772549</td>\n",
       "      <td>29/04</td>\n",
       "      <td>15h37</td>\n",
       "      <td>Queda de Bicicleta</td>\n",
       "      <td>Rua Apus, 537</td>\n",
       "      <td>Jardim Paraíso</td>\n",
       "      <td>2023-04-29 18:35:52+00:00</td>\n",
       "    </tr>\n",
       "    <tr>\n",
       "      <th>4</th>\n",
       "      <td>1652373394828976131</td>\n",
       "      <td>29/04</td>\n",
       "      <td>15h06</td>\n",
       "      <td>Carro x Moto</td>\n",
       "      <td>Rua Fatima, 2175</td>\n",
       "      <td>Fátima</td>\n",
       "      <td>2023-04-29 18:04:51+00:00</td>\n",
       "    </tr>\n",
       "  </tbody>\n",
       "</table>\n",
       "</div>"
      ],
      "text/plain": [
       "              tweet_ID   date   time                       type  \\\n",
       "0  1652404099902500865  29/04  17h08             Queda de Nível   \n",
       "1  1652389753482883072  29/04  16h11              Queda de Moto   \n",
       "2  1652384468798423040  29/04  15h45  Emergência Médica/Clínico   \n",
       "3  1652381198033772549  29/04  15h37         Queda de Bicicleta   \n",
       "4  1652373394828976131  29/04  15h06               Carro x Moto   \n",
       "\n",
       "                             place                 neighbourhood  \\\n",
       "0               Rua Catanduva, 115                    São Marcos   \n",
       "1               Rodovia Sc-418, 16  Dona Francisca (pirabeiraba)   \n",
       "2  Rua Waldemiro José Borges, 5200                        Itinga   \n",
       "3                    Rua Apus, 537                Jardim Paraíso   \n",
       "4                 Rua Fatima, 2175                        Fátima   \n",
       "\n",
       "                     created  \n",
       "0  2023-04-29 20:06:52+00:00  \n",
       "1  2023-04-29 19:09:51+00:00  \n",
       "2  2023-04-29 18:48:51+00:00  \n",
       "3  2023-04-29 18:35:52+00:00  \n",
       "4  2023-04-29 18:04:51+00:00  "
      ]
     },
     "execution_count": 53,
     "metadata": {},
     "output_type": "execute_result"
    }
   ],
   "source": [
    "dataset.head() # Para verificar se carregou corretamente"
   ]
  },
  {
   "cell_type": "code",
   "execution_count": 14,
   "metadata": {},
   "outputs": [],
   "source": [
    "### Quais as ocorrências mais comuns em cada bairro?\n",
    "### Em quais dias da semana acontecem mais ocorrências?\n",
    "### Em quais bairros acontecem mais ocorrências?"
   ]
  },
  {
   "cell_type": "code",
   "execution_count": 52,
   "metadata": {},
   "outputs": [
    {
     "data": {
      "text/plain": [
       "<AxesSubplot:ylabel='Frequency'>"
      ]
     },
     "execution_count": 52,
     "metadata": {},
     "output_type": "execute_result"
    },
    {
     "data": {
      "image/png": "[encoded data removed]",
      "text/plain": [
       "<Figure size 640x480 with 1 Axes>"
      ]
     },
     "metadata": {},
     "output_type": "display_data"
    }
   ],
   "source": [
    "### Em quais horários acontecem mais ocorrências?\n",
    "\n",
    "# Separar em hora, minuto\n",
    "hour_minute = dataset['time'].str.split('h')\n",
    "\n",
    "# isso gera uma série, da qual então queremos pegar as horas, \n",
    "hours = hour_minute.apply(lambda x: int(x[0]))\n",
    "\n",
    "# e fazer o histograma\n",
    "hours.plot.hist(bins=24, grid=True, xticks=range(0, 23))"
   ]
  },
  {
   "cell_type": "code",
   "execution_count": null,
   "metadata": {},
   "outputs": [],
   "source": []
  }
 ],
 "metadata": {
  "kernelspec": {
   "display_name": "Python3",
   "language": "python",
   "name": "python3"
  },
  "language_info": {
   "codemirror_mode": {
    "name": "ipython",
    "version": 3
   },
   "file_extension": ".py",
   "mimetype": "text/x-python",
   "name": "python",
   "nbconvert_exporter": "python",
   "pygments_lexer": "ipython3",
   "version": "3.10.8"
  },
  "orig_nbformat": 4
 },
 "nbformat": 4,
 "nbformat_minor": 2
}
