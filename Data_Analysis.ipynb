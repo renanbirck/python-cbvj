{
 "cells": [
  {
   "cell_type": "code",
   "execution_count": 1,
   "metadata": {},
   "outputs": [],
   "source": [
    "##### Análise dos dados do Twitter do CBVJ.\n",
    "\n",
    "import numpy as np, scipy as sp, matplotlib.pyplot as plt, seaborn as sns, pandas as pd, sqlite3 as sql\n",
    "\n",
    "DB_FILE_NAME = 'tweets.db'"
   ]
  },
  {
   "cell_type": "code",
   "execution_count": 2,
   "metadata": {},
   "outputs": [],
   "source": [
    "# Conectar no DB\n",
    "\n",
    "conn = sql.connect(DB_FILE_NAME)\n",
    "data = pd.read_sql_query(\"SELECT * FROM parsed_tweets ORDER BY created DESC\", conn)"
   ]
  },
  {
   "cell_type": "code",
   "execution_count": 3,
   "metadata": {},
   "outputs": [
    {
     "data": {
      "text/html": [
       "<div>\n",
       "<style scoped>\n",
       "    .dataframe tbody tr th:only-of-type {\n",
       "        vertical-align: middle;\n",
       "    }\n",
       "\n",
       "    .dataframe tbody tr th {\n",
       "        vertical-align: top;\n",
       "    }\n",
       "\n",
       "    .dataframe thead th {\n",
       "        text-align: right;\n",
       "    }\n",
       "</style>\n",
       "<table border=\"1\" class=\"dataframe\">\n",
       "  <thead>\n",
       "    <tr style=\"text-align: right;\">\n",
       "      <th></th>\n",
       "      <th>tweet_ID</th>\n",
       "      <th>date</th>\n",
       "      <th>time</th>\n",
       "      <th>type</th>\n",
       "      <th>place</th>\n",
       "      <th>neighbourhood</th>\n",
       "      <th>created</th>\n",
       "    </tr>\n",
       "  </thead>\n",
       "  <tbody>\n",
       "    <tr>\n",
       "      <th>0</th>\n",
       "      <td>1538635449022955527</td>\n",
       "      <td>19/06</td>\n",
       "      <td>18h30</td>\n",
       "      <td>Queda de Moto</td>\n",
       "      <td>Estrada Timbé, 13350</td>\n",
       "      <td>Jardim Paraíso</td>\n",
       "      <td>2022-06-19 21:30:52+00:00</td>\n",
       "    </tr>\n",
       "    <tr>\n",
       "      <th>1</th>\n",
       "      <td>1538630667663298560</td>\n",
       "      <td>19/06</td>\n",
       "      <td>18h07</td>\n",
       "      <td>Emergência Médica/PCR</td>\n",
       "      <td>Rua Amandus Jacob</td>\n",
       "      <td>Vila Nova</td>\n",
       "      <td>2022-06-19 21:11:52+00:00</td>\n",
       "    </tr>\n",
       "    <tr>\n",
       "      <th>2</th>\n",
       "      <td>1538613554848403456</td>\n",
       "      <td>19/06</td>\n",
       "      <td>17h05</td>\n",
       "      <td>Ônibus x Bicicleta</td>\n",
       "      <td>Rua Prefeito Helmuth Fallgatter, 2905</td>\n",
       "      <td>Boa Vista</td>\n",
       "      <td>2022-06-19 20:03:52+00:00</td>\n",
       "    </tr>\n",
       "    <tr>\n",
       "      <th>3</th>\n",
       "      <td>1538607011524497411</td>\n",
       "      <td>19/06</td>\n",
       "      <td>16h38</td>\n",
       "      <td>Queda de Bicicleta</td>\n",
       "      <td>Rua Adolfo Kluver, 384</td>\n",
       "      <td>Vila Nova</td>\n",
       "      <td>2022-06-19 19:37:52+00:00</td>\n",
       "    </tr>\n",
       "    <tr>\n",
       "      <th>4</th>\n",
       "      <td>1538596441798627334</td>\n",
       "      <td>19/06</td>\n",
       "      <td>15h52</td>\n",
       "      <td>Segurança</td>\n",
       "      <td>Rua Da Independência, 141</td>\n",
       "      <td>Anita Garibaldi</td>\n",
       "      <td>2022-06-19 18:55:52+00:00</td>\n",
       "    </tr>\n",
       "  </tbody>\n",
       "</table>\n",
       "</div>"
      ],
      "text/plain": [
       "              tweet_ID   date   time                   type  \\\n",
       "0  1538635449022955527  19/06  18h30          Queda de Moto   \n",
       "1  1538630667663298560  19/06  18h07  Emergência Médica/PCR   \n",
       "2  1538613554848403456  19/06  17h05     Ônibus x Bicicleta   \n",
       "3  1538607011524497411  19/06  16h38     Queda de Bicicleta   \n",
       "4  1538596441798627334  19/06  15h52              Segurança   \n",
       "\n",
       "                                   place    neighbourhood  \\\n",
       "0                   Estrada Timbé, 13350   Jardim Paraíso   \n",
       "1                      Rua Amandus Jacob        Vila Nova   \n",
       "2  Rua Prefeito Helmuth Fallgatter, 2905        Boa Vista   \n",
       "3                 Rua Adolfo Kluver, 384        Vila Nova   \n",
       "4              Rua Da Independência, 141  Anita Garibaldi   \n",
       "\n",
       "                     created  \n",
       "0  2022-06-19 21:30:52+00:00  \n",
       "1  2022-06-19 21:11:52+00:00  \n",
       "2  2022-06-19 20:03:52+00:00  \n",
       "3  2022-06-19 19:37:52+00:00  \n",
       "4  2022-06-19 18:55:52+00:00  "
      ]
     },
     "execution_count": 3,
     "metadata": {},
     "output_type": "execute_result"
    }
   ],
   "source": [
    "# e confirmar que os dados foram corretamente lidos.\n",
    "data.head()"
   ]
  },
  {
   "cell_type": "code",
   "execution_count": 4,
   "metadata": {},
   "outputs": [
    {
     "data": {
      "text/plain": [
       "neighbourhood\n",
       "Vila Nova               431\n",
       "Aventureiro             428\n",
       "Iririú                  401\n",
       "Boa Vista               395\n",
       "América                 356\n",
       "                       ... \n",
       "Bairro: Aventureiro       3\n",
       "Paranaguamirim.           1\n",
       "Cubatão                   1\n",
       "Cidade: Cuiabá            1\n",
       "Zona Industrial Tupy      1\n",
       "Name: tweet_ID, Length: 61, dtype: int64"
      ]
     },
     "execution_count": 4,
     "metadata": {},
     "output_type": "execute_result"
    }
   ],
   "source": [
    "# Em quais bairros acontecem mais ocorrências?\n",
    "data.groupby('neighbourhood').count()['tweet_ID'].sort_values(ascending=False)"
   ]
  },
  {
   "cell_type": "code",
   "execution_count": 5,
   "metadata": {},
   "outputs": [
    {
     "data": {
      "text/plain": [
       "type\n",
       "Carro x Moto                          1444\n",
       "Queda de Nível                        1061\n",
       "Emergência Médica/Clínico              494\n",
       "Queda de Moto                          420\n",
       "Carro x Carro                          322\n",
       "                                      ... \n",
       "Capotamento                              1\n",
       "Isolamento de Área                       1\n",
       "Caminhão x Obstáculo Fixo/Cerca          1\n",
       "Caminhão x Obstáculo Fixo/Canteiro       1\n",
       "Carroça x Obstáculo Fixo/Muro            1\n",
       "Name: tweet_ID, Length: 184, dtype: int64"
      ]
     },
     "execution_count": 5,
     "metadata": {},
     "output_type": "execute_result"
    }
   ],
   "source": [
    "# Quais as ocorrências mais comuns?\n",
    "\n",
    "data.groupby('type').count()['tweet_ID'].sort_values(ascending=False)"
   ]
  },
  {
   "cell_type": "code",
   "execution_count": 38,
   "metadata": {},
   "outputs": [
    {
     "data": {
      "text/plain": [
       "neighbourhood          type                                 \n",
       "Adhemar  Garcia        Caminhão x Moto                  1192    1521241587648503808\n",
       "                       Captura de Animal/Cobra          850     1526210318963187713\n",
       "                       Carro x Moto                     1237    1520378391630856195\n",
       "                       Emergência Médica/Clínico        1252    1520096280005029889\n",
       "                       Emergência Médica/PCR            2689    1498690602694815748\n",
       "                                                                       ...         \n",
       "ZONA INDUSTRIAL NORTE  Queda de Nível                   1576    1514994080962555911\n",
       "                       Queda de altura (&gt; 3 metros)  4380    1472631523555823632\n",
       "                       Saída de Pista                   625     1529180500551782401\n",
       "                       Segurança                        183     1535617525496664064\n",
       "Zona Industrial Tupy   Queda de Bicicleta               3019    1493684525959892992\n",
       "Name: tweet_ID, Length: 1977, dtype: int64"
      ]
     },
     "execution_count": 38,
     "metadata": {},
     "output_type": "execute_result"
    }
   ],
   "source": [
    "# Quais as ocorrências mais comuns em cada bairro?\n",
    "\n",
    "data.groupby(['neighbourhood','type'])['tweet_ID'].nlargest(1)"
   ]
  },
  {
   "cell_type": "code",
   "execution_count": null,
   "metadata": {},
   "outputs": [],
   "source": []
  }
 ],
 "metadata": {
  "interpreter": {
   "hash": "9ee9a5c0df61a73d671a4a178794d57ca093292d9d977c7c8e94dc0d1e2a13b4"
  },
  "kernelspec": {
   "display_name": "Python 3 (ipykernel)",
   "language": "python",
   "name": "python3"
  },
  "language_info": {
   "codemirror_mode": {
    "name": "ipython",
    "version": 3
   },
   "file_extension": ".py",
   "mimetype": "text/x-python",
   "name": "python",
   "nbconvert_exporter": "python",
   "pygments_lexer": "ipython3",
   "version": "3.9.7"
  }
 },
 "nbformat": 4,
 "nbformat_minor": 2
}
