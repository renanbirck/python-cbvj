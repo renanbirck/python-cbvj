{
 "cells": [
  {
   "cell_type": "code",
   "execution_count": 1,
   "metadata": {},
   "outputs": [],
   "source": [
    "##### Análise dos dados do Twitter do CBVJ.\n",
    "\n",
    "import numpy as np, scipy as sp, matplotlib.pyplot as plt, seaborn as sns, pandas as pd, sqlite3 as sql\n",
    "\n",
    "DB_FILE_NAME = 'tweets.db'\n"
   ]
  },
  {
   "cell_type": "code",
   "execution_count": 2,
   "metadata": {},
   "outputs": [],
   "source": [
    "# Conectar no DB\n",
    "\n",
    "conn = sql.connect(DB_FILE_NAME)\n",
    "data = pd.read_sql_query(\"SELECT * FROM parsed_tweets ORDER BY created DESC\", conn)"
   ]
  },
  {
   "cell_type": "code",
   "execution_count": 3,
   "metadata": {},
   "outputs": [
    {
     "data": {
      "text/html": [
       "<div>\n",
       "<style scoped>\n",
       "    .dataframe tbody tr th:only-of-type {\n",
       "        vertical-align: middle;\n",
       "    }\n",
       "\n",
       "    .dataframe tbody tr th {\n",
       "        vertical-align: top;\n",
       "    }\n",
       "\n",
       "    .dataframe thead th {\n",
       "        text-align: right;\n",
       "    }\n",
       "</style>\n",
       "<table border=\"1\" class=\"dataframe\">\n",
       "  <thead>\n",
       "    <tr style=\"text-align: right;\">\n",
       "      <th></th>\n",
       "      <th>tweet_ID</th>\n",
       "      <th>date</th>\n",
       "      <th>time</th>\n",
       "      <th>type</th>\n",
       "      <th>place</th>\n",
       "      <th>neighbourhood</th>\n",
       "      <th>created</th>\n",
       "    </tr>\n",
       "  </thead>\n",
       "  <tbody>\n",
       "    <tr>\n",
       "      <th>0</th>\n",
       "      <td>1454171358607380481</td>\n",
       "      <td>29/10</td>\n",
       "      <td>16h37</td>\n",
       "      <td>Carro x Bicicleta</td>\n",
       "      <td>Avenida José Vieira</td>\n",
       "      <td>América</td>\n",
       "      <td>2021-10-29 19:40:43+00:00</td>\n",
       "    </tr>\n",
       "    <tr>\n",
       "      <th>1</th>\n",
       "      <td>1454156762970476552</td>\n",
       "      <td>29/10</td>\n",
       "      <td>15h40</td>\n",
       "      <td>Acidente Esportivo</td>\n",
       "      <td>Rua Geny Peixer, 153</td>\n",
       "      <td>Costa e Silva</td>\n",
       "      <td>2021-10-29 18:42:43+00:00</td>\n",
       "    </tr>\n",
       "    <tr>\n",
       "      <th>2</th>\n",
       "      <td>1454154245561782278</td>\n",
       "      <td>29/10</td>\n",
       "      <td>15h28</td>\n",
       "      <td>Carro x Moto</td>\n",
       "      <td>Rua Minas Gerais, 1102</td>\n",
       "      <td>Morro do Meio</td>\n",
       "      <td>2021-10-29 18:32:43+00:00</td>\n",
       "    </tr>\n",
       "    <tr>\n",
       "      <th>3</th>\n",
       "      <td>1454140908329488385</td>\n",
       "      <td>29/10</td>\n",
       "      <td>14h40</td>\n",
       "      <td>Queda de altura (&amp;gt; 3 metros)</td>\n",
       "      <td>Rua Tavares Sobrinho., 827</td>\n",
       "      <td>Boa Vista</td>\n",
       "      <td>2021-10-29 17:39:43+00:00</td>\n",
       "    </tr>\n",
       "    <tr>\n",
       "      <th>4</th>\n",
       "      <td>1454127319577137161</td>\n",
       "      <td>29/10</td>\n",
       "      <td>13h40</td>\n",
       "      <td>Carro x Carro</td>\n",
       "      <td>Rua Avenida Miguel Alves Castanha, 901</td>\n",
       "      <td>Aventureiro</td>\n",
       "      <td>2021-10-29 16:45:44+00:00</td>\n",
       "    </tr>\n",
       "  </tbody>\n",
       "</table>\n",
       "</div>"
      ],
      "text/plain": [
       "              tweet_ID   date   time                             type  \\\n",
       "0  1454171358607380481  29/10  16h37                Carro x Bicicleta   \n",
       "1  1454156762970476552  29/10  15h40               Acidente Esportivo   \n",
       "2  1454154245561782278  29/10  15h28                     Carro x Moto   \n",
       "3  1454140908329488385  29/10  14h40  Queda de altura (&gt; 3 metros)   \n",
       "4  1454127319577137161  29/10  13h40                    Carro x Carro   \n",
       "\n",
       "                                    place  neighbourhood  \\\n",
       "0                     Avenida José Vieira        América   \n",
       "1                    Rua Geny Peixer, 153  Costa e Silva   \n",
       "2                  Rua Minas Gerais, 1102  Morro do Meio   \n",
       "3              Rua Tavares Sobrinho., 827      Boa Vista   \n",
       "4  Rua Avenida Miguel Alves Castanha, 901    Aventureiro   \n",
       "\n",
       "                     created  \n",
       "0  2021-10-29 19:40:43+00:00  \n",
       "1  2021-10-29 18:42:43+00:00  \n",
       "2  2021-10-29 18:32:43+00:00  \n",
       "3  2021-10-29 17:39:43+00:00  \n",
       "4  2021-10-29 16:45:44+00:00  "
      ]
     },
     "execution_count": 3,
     "metadata": {},
     "output_type": "execute_result"
    }
   ],
   "source": [
    "# e confirmar que os dados foram corretamente lidos.\n",
    "data.head()"
   ]
  },
  {
   "cell_type": "code",
   "execution_count": 4,
   "metadata": {},
   "outputs": [
    {
     "data": {
      "text/plain": [
       "neighbourhood\n",
       "Iririú                          123\n",
       "Boa Vista                       121\n",
       "Vila Nova                       120\n",
       "Aventureiro                     118\n",
       "América                         108\n",
       "Costa e Silva                    86\n",
       "Paranaguamirim                   85\n",
       "Floresta                         81\n",
       "Centro                           78\n",
       "Itaum                            73\n",
       "Anita Garibaldi                  71\n",
       "Comasa                           68\n",
       "Fátima                           64\n",
       "Boehmerwald                      63\n",
       "Glória                           53\n",
       "Pirabeiraba (Central)            51\n",
       "Petrópolis                       50\n",
       "Jardim Iririú                    45\n",
       "Jardim Paraíso                   45\n",
       "Bucarein                         44\n",
       "Bom Retiro                       44\n",
       "Itinga                           43\n",
       "Saguaçú                          43\n",
       "Morro do Meio                    43\n",
       "João Costa                       40\n",
       "Nova Brasília                    38\n",
       "Distrito Industrial              37\n",
       "Jarivatuba                       36\n",
       "Santo Antônio                    35\n",
       "Guanabara                        33\n",
       "Adhemar Garcia                   31\n",
       "Espinheiros                      25\n",
       "Atiradores                       22\n",
       "Santa Catarina                   18\n",
       "ZONA INDUSTRIAL NORTE            18\n",
       "Jardim Sofia                     14\n",
       "Dona Francisca (pirabeiraba)     14\n",
       "Vila Cubatão                     13\n",
       "São Marcos                       11\n",
       "RIO BONITO (PIRABEIRABA)          9\n",
       "Parque Guarani                    9\n",
       "Jardim Edilene                    9\n",
       "Ulysses Guimarães                 9\n",
       "Adhemar  Garcia                   6\n",
       "Pirabeiraba.                      5\n",
       "Pirabeiraba (pirabeiraba)         4\n",
       "Ulisses Guimarães                 4\n",
       "Pirabeiraba                       3\n",
       "Pirabeiraba (Rural)               2\n",
       "Profipo                           2\n",
       "Morro do Amaral                   2\n",
       "Rio Bonito                        1\n",
       "Name: tweet_ID, dtype: int64"
      ]
     },
     "execution_count": 4,
     "metadata": {},
     "output_type": "execute_result"
    }
   ],
   "source": [
    "# Em quais bairros acontecem mais ocorrências?\n",
    "data.groupby('neighbourhood').count()['tweet_ID'].sort_values(ascending=False)"
   ]
  },
  {
   "cell_type": "code",
   "execution_count": 5,
   "metadata": {},
   "outputs": [
    {
     "data": {
      "text/plain": [
       "type\n",
       "Carro x Moto                                               436\n",
       "Queda de Nível                                             286\n",
       "Emergência Médica/Clínico                                  130\n",
       "Queda de Moto                                              115\n",
       "Carro x Carro                                               91\n",
       "                                                          ... \n",
       "Incêndio em Meio de Transporte/Caminhão caçamba 3 eixos      1\n",
       "Captura de Animal/Macaco                                     1\n",
       "Incêndio em Meio de Transporte/Mocicleta                     1\n",
       "Acidente Causado por Descarga Elétrica                       1\n",
       "Ônibus x Pedestre                                            1\n",
       "Name: tweet_ID, Length: 127, dtype: int64"
      ]
     },
     "execution_count": 5,
     "metadata": {},
     "output_type": "execute_result"
    }
   ],
   "source": [
    "# Quais as ocorrências mais comuns?\n",
    "\n",
    "data.groupby('type').count()['tweet_ID'].sort_values(ascending=False)"
   ]
  },
  {
   "cell_type": "code",
   "execution_count": 32,
   "metadata": {},
   "outputs": [
    {
     "data": {
      "text/plain": [
       "<pandas.core.groupby.generic.DataFrameGroupBy object at 0x7fd35af20c70>"
      ]
     },
     "execution_count": 32,
     "metadata": {},
     "output_type": "execute_result"
    }
   ],
   "source": [
    "data.sort_values(['neighbourhood','type']).groupby(['neighbourhood','type'])"
   ]
  },
  {
   "cell_type": "code",
   "execution_count": null,
   "metadata": {},
   "outputs": [],
   "source": []
  }
 ],
 "metadata": {
  "interpreter": {
   "hash": "9ee9a5c0df61a73d671a4a178794d57ca093292d9d977c7c8e94dc0d1e2a13b4"
  },
  "kernelspec": {
   "display_name": "Python 3.9.7 64-bit ('Python39': conda)",
   "name": "python3"
  },
  "language_info": {
   "codemirror_mode": {
    "name": "ipython",
    "version": 3
   },
   "file_extension": ".py",
   "mimetype": "text/x-python",
   "name": "python",
   "nbconvert_exporter": "python",
   "pygments_lexer": "ipython3",
   "version": "3.9.7"
  },
  "orig_nbformat": 4
 },
 "nbformat": 4,
 "nbformat_minor": 2
}
