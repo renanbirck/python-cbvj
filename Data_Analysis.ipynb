{
 "cells": [
  {
   "cell_type": "code",
   "execution_count": 3,
   "metadata": {},
   "outputs": [],
   "source": [
    "##### Análise dos dados do Twitter do CBVJ.\n",
    "\n",
    "import numpy as np, scipy as sp, matplotlib.pyplot as plt, seaborn as sns, pandas as pd, sqlite3 as sql\n",
    "\n",
    "DB_FILE_NAME = 'tweets.db'\n"
   ]
  },
  {
   "cell_type": "code",
   "execution_count": 6,
   "metadata": {},
   "outputs": [],
   "source": [
    "# Conectar no DB\n",
    "\n",
    "conn = sql.connect(DB_FILE_NAME)\n",
    "data = pd.read_sql_query(\"SELECT * FROM parsed_tweets ORDER BY created DESC\", conn)"
   ]
  },
  {
   "cell_type": "code",
   "execution_count": 7,
   "metadata": {},
   "outputs": [
    {
     "data": {
      "text/html": [
       "<div>\n",
       "<style scoped>\n",
       "    .dataframe tbody tr th:only-of-type {\n",
       "        vertical-align: middle;\n",
       "    }\n",
       "\n",
       "    .dataframe tbody tr th {\n",
       "        vertical-align: top;\n",
       "    }\n",
       "\n",
       "    .dataframe thead th {\n",
       "        text-align: right;\n",
       "    }\n",
       "</style>\n",
       "<table border=\"1\" class=\"dataframe\">\n",
       "  <thead>\n",
       "    <tr style=\"text-align: right;\">\n",
       "      <th></th>\n",
       "      <th>tweet_ID</th>\n",
       "      <th>date</th>\n",
       "      <th>time</th>\n",
       "      <th>type</th>\n",
       "      <th>place</th>\n",
       "      <th>neighbourhood</th>\n",
       "      <th>created</th>\n",
       "    </tr>\n",
       "  </thead>\n",
       "  <tbody>\n",
       "    <tr>\n",
       "      <th>0</th>\n",
       "      <td>1454075729004699652</td>\n",
       "      <td>29/10</td>\n",
       "      <td>10h18</td>\n",
       "      <td>Queda de Nível</td>\n",
       "      <td>Rua São Paulo, 1075</td>\n",
       "      <td>Bucarein</td>\n",
       "      <td>2021-10-29 13:20:43+00:00</td>\n",
       "    </tr>\n",
       "    <tr>\n",
       "      <th>1</th>\n",
       "      <td>1454069940307247112</td>\n",
       "      <td>29/10</td>\n",
       "      <td>09h40</td>\n",
       "      <td>Segurança</td>\n",
       "      <td>Rua Angelo Pedro Moraes, 923</td>\n",
       "      <td>Jarivatuba</td>\n",
       "      <td>2021-10-29 12:57:43+00:00</td>\n",
       "    </tr>\n",
       "    <tr>\n",
       "      <th>2</th>\n",
       "      <td>1454053582718767107</td>\n",
       "      <td>29/10</td>\n",
       "      <td>08h46</td>\n",
       "      <td>Limpeza de Pista de Rolamento</td>\n",
       "      <td>Rua Orestes Guimarães, 905</td>\n",
       "      <td>América</td>\n",
       "      <td>2021-10-29 11:52:43+00:00</td>\n",
       "    </tr>\n",
       "    <tr>\n",
       "      <th>3</th>\n",
       "      <td>1454028917837340681</td>\n",
       "      <td>29/10</td>\n",
       "      <td>07h10</td>\n",
       "      <td>Corte e/ou Poda de Árvore</td>\n",
       "      <td>Rua Dos Marceneiros, 441</td>\n",
       "      <td>Paranaguamirim</td>\n",
       "      <td>2021-10-29 10:14:43+00:00</td>\n",
       "    </tr>\n",
       "    <tr>\n",
       "      <th>4</th>\n",
       "      <td>1454026905427062785</td>\n",
       "      <td>29/10</td>\n",
       "      <td>07h05</td>\n",
       "      <td>Captura de Animal/Tartaruga</td>\n",
       "      <td>Rua Rolf Gern, 417</td>\n",
       "      <td>Petrópolis</td>\n",
       "      <td>2021-10-29 10:06:43+00:00</td>\n",
       "    </tr>\n",
       "  </tbody>\n",
       "</table>\n",
       "</div>"
      ],
      "text/plain": [
       "              tweet_ID   date   time                           type  \\\n",
       "0  1454075729004699652  29/10  10h18                 Queda de Nível   \n",
       "1  1454069940307247112  29/10  09h40                      Segurança   \n",
       "2  1454053582718767107  29/10  08h46  Limpeza de Pista de Rolamento   \n",
       "3  1454028917837340681  29/10  07h10      Corte e/ou Poda de Árvore   \n",
       "4  1454026905427062785  29/10  07h05    Captura de Animal/Tartaruga   \n",
       "\n",
       "                          place   neighbourhood                    created  \n",
       "0           Rua São Paulo, 1075        Bucarein  2021-10-29 13:20:43+00:00  \n",
       "1  Rua Angelo Pedro Moraes, 923      Jarivatuba  2021-10-29 12:57:43+00:00  \n",
       "2    Rua Orestes Guimarães, 905         América  2021-10-29 11:52:43+00:00  \n",
       "3      Rua Dos Marceneiros, 441  Paranaguamirim  2021-10-29 10:14:43+00:00  \n",
       "4            Rua Rolf Gern, 417      Petrópolis  2021-10-29 10:06:43+00:00  "
      ]
     },
     "execution_count": 7,
     "metadata": {},
     "output_type": "execute_result"
    }
   ],
   "source": [
    "# e confirmar que os dados foram corretamente lidos.\n",
    "data.head()"
   ]
  },
  {
   "cell_type": "code",
   "execution_count": null,
   "metadata": {},
   "outputs": [],
   "source": []
  }
 ],
 "metadata": {
  "interpreter": {
   "hash": "9ee9a5c0df61a73d671a4a178794d57ca093292d9d977c7c8e94dc0d1e2a13b4"
  },
  "kernelspec": {
   "display_name": "Python 3.9.7 64-bit ('Python39': conda)",
   "name": "python3"
  },
  "language_info": {
   "codemirror_mode": {
    "name": "ipython",
    "version": 3
   },
   "file_extension": ".py",
   "mimetype": "text/x-python",
   "name": "python",
   "nbconvert_exporter": "python",
   "pygments_lexer": "ipython3",
   "version": "3.9.7"
  },
  "orig_nbformat": 4
 },
 "nbformat": 4,
 "nbformat_minor": 2
}
